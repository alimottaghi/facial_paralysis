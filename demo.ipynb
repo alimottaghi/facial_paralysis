{
 "cells": [
  {
   "cell_type": "code",
   "execution_count": null,
   "metadata": {},
   "outputs": [],
   "source": [
    "import os\n",
    "import numpy as np\n",
    "import moviepy.editor as mpy\n",
    "import subprocess\n",
    "from pose_features import load_eface, compute_features, extract_features\n",
    "from vis_tools import segment_exps, plot_features, plot_scores, animate_features, FEATURES_LIST, EXPS_LIST\n",
    "from IPython.display import Video\n",
    "\n",
    "FPS = 30"
   ]
  },
  {
   "cell_type": "code",
   "execution_count": null,
   "metadata": {},
   "outputs": [],
   "source": [
    "root_dir = '/pasteur/u/mottaghi/datasets/facial_paralysis'\n",
    "case_id = 'CompleteFlaccid1'\n",
    "features2vis = [4, 1, 6]"
   ]
  },
  {
   "cell_type": "code",
   "execution_count": null,
   "metadata": {},
   "outputs": [],
   "source": [
    "eface_file = os.path.join(root_dir, case_id, f'eface_{case_id}.json')\n",
    "eface = load_eface(eface_file)\n",
    "pose_file = os.path.join(root_dir, case_id, f'pose_{case_id}.npy')\n",
    "pose = np.load(pose_file, allow_pickle=True).item()\n",
    "features = extract_features(pose)\n",
    "length = len(features[0]) / FPS\n",
    "segments = segment_exps(eface, length)\n",
    "segments"
   ]
  },
  {
   "cell_type": "code",
   "execution_count": null,
   "metadata": {},
   "outputs": [],
   "source": [
    "feat_file = os.path.join(root_dir, case_id, f'feats_{case_id}.jpg')\n",
    "plot_features(features, eface, out_path=feat_file, show=True)"
   ]
  },
  {
   "cell_type": "code",
   "execution_count": null,
   "metadata": {},
   "outputs": [],
   "source": [
    "from sklearn.preprocessing import Normalizer\n",
    "import moviepy.editor as mpy\n",
    "from matplotlib import pyplot as plt\n",
    "import cv2\n",
    "import numpy as np\n",
    "\n",
    "cap = cv2.VideoCapture(os.path.join(root_dir, case_id, f'video_{case_id}.mp4'))\n",
    "frames_list = []\n",
    "while True:\n",
    "    success, frame = cap.read()\n",
    "    if not success:\n",
    "        break\n",
    "    frame = cv2.cvtColor(frame, cv2.COLOR_BGR2RGB)\n",
    "    frames_list.append(frame)\n",
    "\n",
    "for j, exp in enumerate(EXPS_LIST):\n",
    "    start, end = tuple(eface['Facial Expressions'][exp])\n",
    "    exp_features = np.zeros_like(features)\n",
    "    exp_features[:, start*FPS:end*FPS] = features[:, start*FPS:end*FPS]\n",
    "    exp_trans= Normalizer().fit(exp_features)\n",
    "    exp_norm_features = exp_trans.transform(np.abs(exp_features))\n",
    "    exp_max_loc = exp_norm_features.sum(axis=0).argmax()\n",
    "    exp_frame = frames_list[exp_max_loc]\n",
    "    plt.imshow(exp_frame)\n",
    "    plt.axis('off')\n",
    "    plt.show()\n",
    "    plt.imsave(os.path.join(root_dir, case_id, f'{case_id}-{j}_keyframe.jpg'), exp_frame)"
   ]
  },
  {
   "cell_type": "code",
   "execution_count": null,
   "metadata": {},
   "outputs": [],
   "source": [
    "score_file = os.path.join(root_dir, case_id, f'{case_id}_scores.jpg')\n",
    "plot_scores(eface, out_path=score_file, show=True)"
   ]
  },
  {
   "cell_type": "code",
   "execution_count": null,
   "metadata": {},
   "outputs": [],
   "source": [
    "ani_file = os.path.join(root_dir, case_id, f'feats_{case_id}.mp4')\n",
    "animate_features(100*features[features2vis[0]], 100*features[features2vis[1]], 100*features[features2vis[2]], segments, out_path=ani_file, labels=[FEATURES_LIST[features2vis[0]], FEATURES_LIST[features2vis[1]], FEATURES_LIST[features2vis[2]]])"
   ]
  },
  {
   "cell_type": "code",
   "execution_count": null,
   "metadata": {},
   "outputs": [],
   "source": [
    "vis_clip = mpy.VideoFileClip(os.path.join(root_dir, case_id, f'vis_{case_id}.mp4'))\n",
    "feat_clip = mpy.VideoFileClip(ani_file)\n",
    "score_clip = mpy.VideoFileClip(score_file)\n",
    "mpy.clips_array([[vis_clip, feat_clip]]).write_videofile(os.path.join(root_dir, case_id, f'demo_{case_id}.mp4'))"
   ]
  },
  {
   "cell_type": "code",
   "execution_count": null,
   "metadata": {},
   "outputs": [],
   "source": []
  }
 ],
 "metadata": {
  "kernelspec": {
   "display_name": "Python 3",
   "language": "python",
   "name": "python3"
  },
  "language_info": {
   "codemirror_mode": {
    "name": "ipython",
    "version": 3
   },
   "file_extension": ".py",
   "mimetype": "text/x-python",
   "name": "python",
   "nbconvert_exporter": "python",
   "pygments_lexer": "ipython3",
   "version": "3.10.11"
  },
  "orig_nbformat": 4,
  "vscode": {
   "interpreter": {
    "hash": "31f2aee4e71d21fbe5cf8b01ff0e069b9275f58929596ceb00d14d90e3e16cd6"
   }
  }
 },
 "nbformat": 4,
 "nbformat_minor": 2
}
